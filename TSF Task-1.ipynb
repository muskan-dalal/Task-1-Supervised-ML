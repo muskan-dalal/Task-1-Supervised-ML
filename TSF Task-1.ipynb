{
 "cells": [
  {
   
   ]
  },
  {
   "cell_type": "markdown",
   "id": "d9d32a04",
   "metadata": {},
   "source": [
    "# The Sparks Foundation - Data Science & Business Analytics Internship"
   ]
  },
  {
   "cell_type": "markdown",
   "id": "34f3b532",
   "metadata": {},
   "source": [
    "# Task 1- Prediction using Supervised ML"
   ]
  },
  {
   "cell_type": "markdown",
   "id": "708bbdb4",
   "metadata": {},
   "source": [
    "### This project predicts the percentage that a student is expected to score based upon the number of hours they studied."
   ]
  },
  {
   "cell_type": "markdown",
   "id": "fd216fb8",
   "metadata": {},
   "source": [
    "#### Importing libraries"
   ]
  },
  {
   "cell_type": "code",
   "execution_count": 1,
   "id": "77665e76",
   "metadata": {},
   "outputs": [],
   "source": [
    "import pandas as pd\n",
    "import numpy as np  \n",
    "import matplotlib.pyplot as plt  \n",
    "%matplotlib inline"
   ]
  },
  {
   "cell_type": "markdown",
   "id": "84958f9c",
   "metadata": {},
   "source": [
    "#### Reading data via remote link"
   ]
  },
  {
   "cell_type": "code",
   "execution_count": 2,
   "id": "7f4aaf80",
   "metadata": {},
   "outputs": [
    {
     "name": "stdout",
     "output_type": "stream",
     "text": [
      "Data imported successfully\n"
     ]
    },
    {
     "data": {
      "text/html": [
       "<div>\n",
       "<style scoped>\n",
       "    .dataframe tbody tr th:only-of-type {\n",
       "        vertical-align: middle;\n",
       "    }\n",
       "\n",
       "    .dataframe tbody tr th {\n",
       "        vertical-align: top;\n",
       "    }\n",
       "\n",
       "    .dataframe thead th {\n",
       "        text-align: right;\n",
       "    }\n",
       "</style>\n",
       "<table border=\"1\" class=\"dataframe\">\n",
       "  <thead>\n",
       "    <tr style=\"text-align: right;\">\n",
       "      <th></th>\n",
       "      <th>Hours</th>\n",
       "      <th>Scores</th>\n",
       "    </tr>\n",
       "  </thead>\n",
       "  <tbody>\n",
       "    <tr>\n",
       "      <th>0</th>\n",
       "      <td>2.5</td>\n",
       "      <td>21</td>\n",
       "    </tr>\n",
       "    <tr>\n",
       "      <th>1</th>\n",
       "      <td>5.1</td>\n",
       "      <td>47</td>\n",
       "    </tr>\n",
       "    <tr>\n",
       "      <th>2</th>\n",
       "      <td>3.2</td>\n",
       "      <td>27</td>\n",
       "    </tr>\n",
       "    <tr>\n",
       "      <th>3</th>\n",
       "      <td>8.5</td>\n",
       "      <td>75</td>\n",
       "    </tr>\n",
       "    <tr>\n",
       "      <th>4</th>\n",
       "      <td>3.5</td>\n",
       "      <td>30</td>\n",
       "    </tr>\n",
       "    <tr>\n",
       "      <th>5</th>\n",
       "      <td>1.5</td>\n",
       "      <td>20</td>\n",
       "    </tr>\n",
       "    <tr>\n",
       "      <th>6</th>\n",
       "      <td>9.2</td>\n",
       "      <td>88</td>\n",
       "    </tr>\n",
       "    <tr>\n",
       "      <th>7</th>\n",
       "      <td>5.5</td>\n",
       "      <td>60</td>\n",
       "    </tr>\n",
       "    <tr>\n",
       "      <th>8</th>\n",
       "      <td>8.3</td>\n",
       "      <td>81</td>\n",
       "    </tr>\n",
       "    <tr>\n",
       "      <th>9</th>\n",
       "      <td>2.7</td>\n",
       "      <td>25</td>\n",
       "    </tr>\n",
       "  </tbody>\n",
       "</table>\n",
       "</div>"
      ],
      "text/plain": [
       "   Hours  Scores\n",
       "0    2.5      21\n",
       "1    5.1      47\n",
       "2    3.2      27\n",
       "3    8.5      75\n",
       "4    3.5      30\n",
       "5    1.5      20\n",
       "6    9.2      88\n",
       "7    5.5      60\n",
       "8    8.3      81\n",
       "9    2.7      25"
      ]
     },
     "execution_count": 2,
     "metadata": {},
     "output_type": "execute_result"
    }
   ],
   "source": [
    "url = \"http://bit.ly/w-data\"\n",
    "s_data = pd.read_csv(url)\n",
    "print(\"Data imported successfully\")\n",
    "\n",
    "s_data.head(10)"
   ]
  },
  {
   "cell_type": "markdown",
   "id": "04fc6308",
   "metadata": {},
   "source": [
    "#### Plotting the distribution of scores"
   ]
  },
  {
   "cell_type": "code",
   "execution_count": 3,
   "id": "0a0872f3",
   "metadata": {},
   "outputs": [
    {
     "data": {
      "image/png": "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\n",
      "text/plain": [
       "<Figure size 432x288 with 1 Axes>"
      ]
     },
     "metadata": {
      "needs_background": "light"
     },
     "output_type": "display_data"
    }
   ],
   "source": [
    "s_data.plot(x='Hours', y='Scores', style='o', color='red')  \n",
    "plt.title('Hours vs Percentage')  \n",
    "plt.xlabel('Number of Hours Studied')  \n",
    "plt.ylabel('Percentage')  \n",
    "plt.show()"
   ]
  },
  {
   "cell_type": "code",
   "execution_count": 4,
   "id": "6e68a9d3",
   "metadata": {},
   "outputs": [],
   "source": [
    "# There's a positive linear relation between percentage scored and no. of hours studied by students."
   ]
  },
  {
   "cell_type": "markdown",
   "id": "dd7f2c86",
   "metadata": {},
   "source": [
    "#### Dividing the data into attributes and labels"
   ]
  },
  {
   "cell_type": "code",
   "execution_count": 5,
   "id": "5e3d78f7",
   "metadata": {},
   "outputs": [],
   "source": [
    "x = s_data.iloc[:, :-1].values  \n",
    "y = s_data.iloc[:, 1].values  "
   ]
  },
  {
   "cell_type": "markdown",
   "id": "46b90088",
   "metadata": {},
   "source": [
    "#### Splitting Data"
   ]
  },
  {
   "cell_type": "code",
   "execution_count": 6,
   "id": "25524379",
   "metadata": {},
   "outputs": [],
   "source": [
    "from sklearn.model_selection import train_test_split  \n",
    "x_train, x_test, y_train, y_test = train_test_split(x, y, test_size=0.2, random_state=0) "
   ]
  },
  {
   "cell_type": "markdown",
   "id": "d649e671",
   "metadata": {},
   "source": [
    "#### Applying Linear Regression"
   ]
  },
  {
   "cell_type": "code",
   "execution_count": 7,
   "id": "c5c8eb95",
   "metadata": {},
   "outputs": [],
   "source": [
    "from sklearn.linear_model import LinearRegression"
   ]
  },
  {
   "cell_type": "markdown",
   "id": "199d2f37",
   "metadata": {},
   "source": [
    "#### Training Data"
   ]
  },
  {
   "cell_type": "code",
   "execution_count": 8,
   "id": "454a68a1",
   "metadata": {},
   "outputs": [
    {
     "name": "stdout",
     "output_type": "stream",
     "text": [
      "Model is trained successfully.\n"
     ]
    }
   ],
   "source": [
    "regressor = LinearRegression()  \n",
    "regressor.fit(x_train, y_train) \n",
    "\n",
    "print(\"Model is trained successfully.\")"
   ]
  },
  {
   "cell_type": "markdown",
   "id": "5758b46d",
   "metadata": {},
   "source": [
    "#### Plotting the regression line and test data"
   ]
  },
  {
   "cell_type": "code",
   "execution_count": 9,
   "id": "b076ec7e",
   "metadata": {},
   "outputs": [
    {
     "data": {
      "image/png": "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\n",
      "text/plain": [
       "<Figure size 432x288 with 1 Axes>"
      ]
     },
     "metadata": {
      "needs_background": "light"
     },
     "output_type": "display_data"
    }
   ],
   "source": [
    "line = regressor.coef_*x+regressor.intercept_\n",
    "plt.scatter(x, y, color='red')\n",
    "plt.plot(x, line);\n",
    "plt.show()"
   ]
  },
  {
   "cell_type": "markdown",
   "id": "cc550a50",
   "metadata": {},
   "source": [
    "#### Predicting the Model"
   ]
  },
  {
   "cell_type": "code",
   "execution_count": 10,
   "id": "f6e58dc2",
   "metadata": {},
   "outputs": [
    {
     "name": "stdout",
     "output_type": "stream",
     "text": [
      "[[1.5]\n",
      " [3.2]\n",
      " [7.4]\n",
      " [2.5]\n",
      " [5.9]]\n"
     ]
    }
   ],
   "source": [
    "print(x_test)\n",
    "y_pred = regressor.predict(x_test)"
   ]
  },
  {
   "cell_type": "markdown",
   "id": "60a3789d",
   "metadata": {},
   "source": [
    "#### Comparing Actual and Predicted data"
   ]
  },
  {
   "cell_type": "code",
   "execution_count": 11,
   "id": "41ea28c2",
   "metadata": {},
   "outputs": [
    {
     "data": {
      "text/html": [
       "<div>\n",
       "<style scoped>\n",
       "    .dataframe tbody tr th:only-of-type {\n",
       "        vertical-align: middle;\n",
       "    }\n",
       "\n",
       "    .dataframe tbody tr th {\n",
       "        vertical-align: top;\n",
       "    }\n",
       "\n",
       "    .dataframe thead th {\n",
       "        text-align: right;\n",
       "    }\n",
       "</style>\n",
       "<table border=\"1\" class=\"dataframe\">\n",
       "  <thead>\n",
       "    <tr style=\"text-align: right;\">\n",
       "      <th></th>\n",
       "      <th>Actual</th>\n",
       "      <th>Predicted</th>\n",
       "    </tr>\n",
       "  </thead>\n",
       "  <tbody>\n",
       "    <tr>\n",
       "      <th>0</th>\n",
       "      <td>20</td>\n",
       "      <td>16.884145</td>\n",
       "    </tr>\n",
       "    <tr>\n",
       "      <th>1</th>\n",
       "      <td>27</td>\n",
       "      <td>33.732261</td>\n",
       "    </tr>\n",
       "    <tr>\n",
       "      <th>2</th>\n",
       "      <td>69</td>\n",
       "      <td>75.357018</td>\n",
       "    </tr>\n",
       "    <tr>\n",
       "      <th>3</th>\n",
       "      <td>30</td>\n",
       "      <td>26.794801</td>\n",
       "    </tr>\n",
       "    <tr>\n",
       "      <th>4</th>\n",
       "      <td>62</td>\n",
       "      <td>60.491033</td>\n",
       "    </tr>\n",
       "  </tbody>\n",
       "</table>\n",
       "</div>"
      ],
      "text/plain": [
       "   Actual  Predicted\n",
       "0      20  16.884145\n",
       "1      27  33.732261\n",
       "2      69  75.357018\n",
       "3      30  26.794801\n",
       "4      62  60.491033"
      ]
     },
     "execution_count": 11,
     "metadata": {},
     "output_type": "execute_result"
    }
   ],
   "source": [
    "df = pd.DataFrame({'Actual': y_test, 'Predicted': y_pred})  \n",
    "df "
   ]
  },
  {
   "cell_type": "markdown",
   "id": "323af589",
   "metadata": {},
   "source": [
    "#### Testing data "
   ]
  },
  {
   "cell_type": "code",
   "execution_count": 12,
   "id": "b1c9b4ef",
   "metadata": {},
   "outputs": [
    {
     "name": "stdout",
     "output_type": "stream",
     "text": [
      "Number of Hours = 9.25\n",
      "Predicted Percentage = 93.69173248737535\n"
     ]
    }
   ],
   "source": [
    "hours = 9.25\n",
    "answer = regressor.predict([[hours]])\n",
    "print(\"Number of Hours = {}\".format(hours))\n",
    "print(\"Predicted Percentage = {}\".format(answer[0]))"
   ]
  },
  {
   "cell_type": "markdown",
   "id": "ffb99998",
   "metadata": {},
   "source": [
    "#### Evaluating the model using Mean Square Error (MSE)"
   ]
  },
  {
   "cell_type": "code",
   "execution_count": 13,
   "id": "1b4e3e6e",
   "metadata": {},
   "outputs": [
    {
     "name": "stdout",
     "output_type": "stream",
     "text": [
      "Mean Absolute Error: 4.183859899002975\n"
     ]
    }
   ],
   "source": [
    "from sklearn import metrics  \n",
    "print('Mean Absolute Error:', \n",
    "      metrics.mean_absolute_error(y_test, y_pred)) "
   ]
  },
  {
   "cell_type": "markdown",
   "id": "7c8566dd",
   "metadata": {},
   "source": [
    "## Thank you"
   ]
  },
  {
   "cell_type": "code",
   "execution_count": null,
   "id": "acc662af",
   "metadata": {},
   "outputs": [],
   "source": []
  }
 ],
 "metadata": {
  "kernelspec": {
   "display_name": "Python 3 (ipykernel)",
   "language": "python",
   "name": "python3"
  },
  "language_info": {
   "codemirror_mode": {
    "name": "ipython",
    "version": 3
   },
   "file_extension": ".py",
   "mimetype": "text/x-python",
   "name": "python",
   "nbconvert_exporter": "python",
   "pygments_lexer": "ipython3",
   "version": "3.9.9"
  }
 },
 "nbformat": 4,
 "nbformat_minor": 5
}
